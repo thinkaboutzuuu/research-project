{
 "cells": [
  {
   "cell_type": "code",
   "execution_count": 1,
   "metadata": {},
   "outputs": [],
   "source": [
    "import pandas as pd\n",
    "import numpy as np\n",
    "import matplotlib.pylab as plt"
   ]
  },
  {
   "cell_type": "code",
   "execution_count": 9,
   "metadata": {},
   "outputs": [
    {
     "name": "stderr",
     "output_type": "stream",
     "text": [
      "[*********************100%%**********************]  1 of 1 completed\n"
     ]
    },
    {
     "data": {
      "text/html": [
       "<div>\n",
       "<style scoped>\n",
       "    .dataframe tbody tr th:only-of-type {\n",
       "        vertical-align: middle;\n",
       "    }\n",
       "\n",
       "    .dataframe tbody tr th {\n",
       "        vertical-align: top;\n",
       "    }\n",
       "\n",
       "    .dataframe thead th {\n",
       "        text-align: right;\n",
       "    }\n",
       "</style>\n",
       "<table border=\"1\" class=\"dataframe\">\n",
       "  <thead>\n",
       "    <tr style=\"text-align: right;\">\n",
       "      <th></th>\n",
       "      <th>open</th>\n",
       "      <th>high</th>\n",
       "      <th>low</th>\n",
       "      <th>close</th>\n",
       "      <th>volume</th>\n",
       "    </tr>\n",
       "    <tr>\n",
       "      <th>Date</th>\n",
       "      <th></th>\n",
       "      <th></th>\n",
       "      <th></th>\n",
       "      <th></th>\n",
       "      <th></th>\n",
       "    </tr>\n",
       "  </thead>\n",
       "  <tbody>\n",
       "    <tr>\n",
       "      <th>2017-11-09</th>\n",
       "      <td>0.001207</td>\n",
       "      <td>0.001415</td>\n",
       "      <td>0.001181</td>\n",
       "      <td>0.001415</td>\n",
       "      <td>6259550</td>\n",
       "    </tr>\n",
       "    <tr>\n",
       "      <th>2017-11-10</th>\n",
       "      <td>0.001421</td>\n",
       "      <td>0.001431</td>\n",
       "      <td>0.001125</td>\n",
       "      <td>0.001163</td>\n",
       "      <td>4246520</td>\n",
       "    </tr>\n",
       "    <tr>\n",
       "      <th>2017-11-11</th>\n",
       "      <td>0.001146</td>\n",
       "      <td>0.001257</td>\n",
       "      <td>0.001141</td>\n",
       "      <td>0.001201</td>\n",
       "      <td>2231080</td>\n",
       "    </tr>\n",
       "    <tr>\n",
       "      <th>2017-11-12</th>\n",
       "      <td>0.001189</td>\n",
       "      <td>0.001210</td>\n",
       "      <td>0.001002</td>\n",
       "      <td>0.001038</td>\n",
       "      <td>3288960</td>\n",
       "    </tr>\n",
       "    <tr>\n",
       "      <th>2017-11-13</th>\n",
       "      <td>0.001046</td>\n",
       "      <td>0.001212</td>\n",
       "      <td>0.001019</td>\n",
       "      <td>0.001211</td>\n",
       "      <td>2481270</td>\n",
       "    </tr>\n",
       "  </tbody>\n",
       "</table>\n",
       "</div>"
      ],
      "text/plain": [
       "                open      high       low     close   volume\n",
       "Date                                                       \n",
       "2017-11-09  0.001207  0.001415  0.001181  0.001415  6259550\n",
       "2017-11-10  0.001421  0.001431  0.001125  0.001163  4246520\n",
       "2017-11-11  0.001146  0.001257  0.001141  0.001201  2231080\n",
       "2017-11-12  0.001189  0.001210  0.001002  0.001038  3288960\n",
       "2017-11-13  0.001046  0.001212  0.001019  0.001211  2481270"
      ]
     },
     "execution_count": 9,
     "metadata": {},
     "output_type": "execute_result"
    }
   ],
   "source": [
    "import yfinance as yf\n",
    "\n",
    "df = yf.download('DOGE-USD', start='2017-01-01', end='2024-10-16')\n",
    "df.drop(['Adj Close'], axis = 1, inplace=True)\n",
    "df.columns = ['open', 'high', 'low', 'close', 'volume']\n",
    "\n",
    "df.head()"
   ]
  },
  {
   "cell_type": "code",
   "execution_count": 10,
   "metadata": {},
   "outputs": [],
   "source": [
    "import ta \n",
    "\n",
    "df['SMA_50'] = ta.trend.sma_indicator(df['close'], window=50)\n",
    "df['SMA_200'] = ta.trend.sma_indicator(df['close'], window=200)\n",
    "\n",
    "df['EMA_12'] = ta.trend.ema_indicator(df['close'], window=12)\n",
    "df['EMA_26'] = ta.trend.ema_indicator(df['close'], window=26)\n",
    "\n",
    "df['MACD'] = ta.trend.macd(df['close'])\n",
    "df['MACD_signal'] = ta.trend.macd_signal(df['close'])\n",
    "df['MACD_diff'] = ta.trend.macd_diff(df['close'])\n",
    "\n",
    "df['RSI_14'] = ta.momentum.rsi(df['close'], window=14)\n",
    "\n",
    "# Bollinger Bands\n",
    "indicator_bb = ta.volatility.BollingerBands(close=df['close'], window=20, window_dev=2)\n",
    "\n",
    "df['BB_high'] = indicator_bb.bollinger_hband()\n",
    "df['BB_low'] = indicator_bb.bollinger_lband()\n",
    "df['BB_mid'] = indicator_bb.bollinger_mavg()  # Middle Band is a moving average\n",
    "\n",
    "df['ATR'] = ta.volatility.average_true_range(df['high'], df['low'], df['close'], window=14)\n",
    "\n",
    "df['ADX'] = ta.trend.adx(df['high'], df['low'], df['close'], window=14)\n",
    "\n",
    "df['OBV'] = ta.volume.on_balance_volume(df['close'], df['volume'])\n",
    "df['CMF'] = ta.volume.chaikin_money_flow(df['high'], df['low'], df['close'], df['volume'], window=20)"
   ]
  },
  {
   "cell_type": "code",
   "execution_count": 11,
   "metadata": {},
   "outputs": [],
   "source": [
    "df.dropna(inplace=True)"
   ]
  },
  {
   "cell_type": "code",
   "execution_count": 13,
   "metadata": {},
   "outputs": [
    {
     "data": {
      "text/plain": [
       "open           0.992177\n",
       "high           0.994896\n",
       "low            0.994320\n",
       "close          1.000000\n",
       "volume         0.571149\n",
       "SMA_50         0.901157\n",
       "SMA_200        0.743522\n",
       "EMA_12         0.983468\n",
       "EMA_26         0.963088\n",
       "MACD           0.322292\n",
       "MACD_signal    0.334264\n",
       "MACD_diff      0.030271\n",
       "RSI_14         0.094457\n",
       "BB_high        0.968652\n",
       "BB_low         0.860098\n",
       "BB_mid         0.962177\n",
       "ATR            0.846606\n",
       "ADX            0.064698\n",
       "OBV            0.631711\n",
       "CMF            0.036690\n",
       "Name: close, dtype: float64"
      ]
     },
     "execution_count": 13,
     "metadata": {},
     "output_type": "execute_result"
    }
   ],
   "source": [
    "correlations = df.corr()\n",
    "correlations['close']"
   ]
  },
  {
   "cell_type": "code",
   "execution_count": 14,
   "metadata": {},
   "outputs": [],
   "source": [
    "df.drop(['MACD_diff', 'RSI_14', 'ADX', 'CMF'], axis = 1, inplace=True)"
   ]
  },
  {
   "cell_type": "code",
   "execution_count": 16,
   "metadata": {},
   "outputs": [],
   "source": [
    "df.to_csv(\"doge_after_EDA.csv\", index = False)"
   ]
  },
  {
   "cell_type": "code",
   "execution_count": null,
   "metadata": {},
   "outputs": [],
   "source": []
  }
 ],
 "metadata": {
  "kernelspec": {
   "display_name": "res_proj",
   "language": "python",
   "name": "python3"
  },
  "language_info": {
   "codemirror_mode": {
    "name": "ipython",
    "version": 3
   },
   "file_extension": ".py",
   "mimetype": "text/x-python",
   "name": "python",
   "nbconvert_exporter": "python",
   "pygments_lexer": "ipython3",
   "version": "3.8.18"
  }
 },
 "nbformat": 4,
 "nbformat_minor": 2
}
