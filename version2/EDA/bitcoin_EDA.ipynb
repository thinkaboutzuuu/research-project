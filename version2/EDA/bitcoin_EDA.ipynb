{
 "cells": [
  {
   "cell_type": "code",
   "execution_count": 2,
   "metadata": {},
   "outputs": [],
   "source": [
    "import pandas as pd\n",
    "import numpy as np\n",
    "import matplotlib.pylab as plt"
   ]
  },
  {
   "cell_type": "code",
   "execution_count": 3,
   "metadata": {},
   "outputs": [
    {
     "data": {
      "text/html": [
       "<div>\n",
       "<style scoped>\n",
       "    .dataframe tbody tr th:only-of-type {\n",
       "        vertical-align: middle;\n",
       "    }\n",
       "\n",
       "    .dataframe tbody tr th {\n",
       "        vertical-align: top;\n",
       "    }\n",
       "\n",
       "    .dataframe thead th {\n",
       "        text-align: right;\n",
       "    }\n",
       "</style>\n",
       "<table border=\"1\" class=\"dataframe\">\n",
       "  <thead>\n",
       "    <tr style=\"text-align: right;\">\n",
       "      <th></th>\n",
       "      <th>date</th>\n",
       "      <th>crypto</th>\n",
       "      <th>open</th>\n",
       "      <th>high</th>\n",
       "      <th>low</th>\n",
       "      <th>close</th>\n",
       "      <th>volume</th>\n",
       "    </tr>\n",
       "  </thead>\n",
       "  <tbody>\n",
       "    <tr>\n",
       "      <th>0</th>\n",
       "      <td>2000-01-01</td>\n",
       "      <td>BTC</td>\n",
       "      <td>100.0</td>\n",
       "      <td>100.0</td>\n",
       "      <td>100.0</td>\n",
       "      <td>100.0</td>\n",
       "      <td>1000000</td>\n",
       "    </tr>\n",
       "    <tr>\n",
       "      <th>1</th>\n",
       "      <td>2000-01-02</td>\n",
       "      <td>BTC</td>\n",
       "      <td>110.1</td>\n",
       "      <td>110.3</td>\n",
       "      <td>109.9</td>\n",
       "      <td>110.3</td>\n",
       "      <td>1010000</td>\n",
       "    </tr>\n",
       "    <tr>\n",
       "      <th>2</th>\n",
       "      <td>2000-01-03</td>\n",
       "      <td>BTC</td>\n",
       "      <td>120.2</td>\n",
       "      <td>120.6</td>\n",
       "      <td>119.8</td>\n",
       "      <td>120.6</td>\n",
       "      <td>1020000</td>\n",
       "    </tr>\n",
       "    <tr>\n",
       "      <th>3</th>\n",
       "      <td>2000-01-04</td>\n",
       "      <td>BTC</td>\n",
       "      <td>130.3</td>\n",
       "      <td>130.9</td>\n",
       "      <td>129.7</td>\n",
       "      <td>130.9</td>\n",
       "      <td>1030000</td>\n",
       "    </tr>\n",
       "    <tr>\n",
       "      <th>4</th>\n",
       "      <td>2000-01-05</td>\n",
       "      <td>BTC</td>\n",
       "      <td>140.4</td>\n",
       "      <td>141.2</td>\n",
       "      <td>139.6</td>\n",
       "      <td>141.2</td>\n",
       "      <td>1040000</td>\n",
       "    </tr>\n",
       "  </tbody>\n",
       "</table>\n",
       "</div>"
      ],
      "text/plain": [
       "         date crypto   open   high    low  close   volume\n",
       "0  2000-01-01    BTC  100.0  100.0  100.0  100.0  1000000\n",
       "1  2000-01-02    BTC  110.1  110.3  109.9  110.3  1010000\n",
       "2  2000-01-03    BTC  120.2  120.6  119.8  120.6  1020000\n",
       "3  2000-01-04    BTC  130.3  130.9  129.7  130.9  1030000\n",
       "4  2000-01-05    BTC  140.4  141.2  139.6  141.2  1040000"
      ]
     },
     "execution_count": 3,
     "metadata": {},
     "output_type": "execute_result"
    }
   ],
   "source": [
    "path = \"../DATA/bitcoin.csv\"\n",
    "df = pd.read_csv(path)\n",
    "\n",
    "df.drop\n",
    "\n",
    "df.isnull().head()\n",
    "df.head()"
   ]
  },
  {
   "cell_type": "code",
   "execution_count": 4,
   "metadata": {},
   "outputs": [],
   "source": [
    "import ta \n",
    "\n",
    "df['SMA_50'] = ta.trend.sma_indicator(df['close'], window=50)\n",
    "df['SMA_200'] = ta.trend.sma_indicator(df['close'], window=200)\n",
    "\n",
    "df['EMA_12'] = ta.trend.ema_indicator(df['close'], window=12)\n",
    "df['EMA_26'] = ta.trend.ema_indicator(df['close'], window=26)\n",
    "\n",
    "df['MACD'] = ta.trend.macd(df['close'])\n",
    "df['MACD_signal'] = ta.trend.macd_signal(df['close'])\n",
    "df['MACD_diff'] = ta.trend.macd_diff(df['close'])\n",
    "\n",
    "df['RSI_14'] = ta.momentum.rsi(df['close'], window=14)\n",
    "\n",
    "# Bollinger Bands\n",
    "indicator_bb = ta.volatility.BollingerBands(close=df['close'], window=20, window_dev=2)\n",
    "\n",
    "df['BB_high'] = indicator_bb.bollinger_hband()\n",
    "df['BB_low'] = indicator_bb.bollinger_lband()\n",
    "df['BB_mid'] = indicator_bb.bollinger_mavg()  # Middle Band is a moving average\n",
    "\n",
    "df['ATR'] = ta.volatility.average_true_range(df['high'], df['low'], df['close'], window=14)\n",
    "\n",
    "df['ADX'] = ta.trend.adx(df['high'], df['low'], df['close'], window=14)\n",
    "\n",
    "df['OBV'] = ta.volume.on_balance_volume(df['close'], df['volume'])\n",
    "df['CMF'] = ta.volume.chaikin_money_flow(df['high'], df['low'], df['close'], df['volume'], window=20)"
   ]
  },
  {
   "cell_type": "code",
   "execution_count": 5,
   "metadata": {},
   "outputs": [],
   "source": [
    "df.dropna(inplace=True)"
   ]
  },
  {
   "cell_type": "code",
   "execution_count": 6,
   "metadata": {},
   "outputs": [
    {
     "data": {
      "text/plain": [
       "open           1.000000\n",
       "high           1.000000\n",
       "low            1.000000\n",
       "close          1.000000\n",
       "volume         1.000000\n",
       "SMA_50         1.000000\n",
       "SMA_200        1.000000\n",
       "EMA_12         1.000000\n",
       "EMA_26         1.000000\n",
       "MACD          -0.000302\n",
       "MACD_signal   -0.000503\n",
       "MACD_diff     -0.000189\n",
       "RSI_14              NaN\n",
       "BB_high        1.000000\n",
       "BB_low         1.000000\n",
       "BB_mid         1.000000\n",
       "ATR            0.000050\n",
       "ADX                 NaN\n",
       "OBV            0.972088\n",
       "CMF            0.000008\n",
       "Name: close, dtype: float64"
      ]
     },
     "execution_count": 6,
     "metadata": {},
     "output_type": "execute_result"
    }
   ],
   "source": [
    "df_for_corr = df.drop(['date', 'crypto'], axis = 1)\n",
    "\n",
    "correlations = df_for_corr.corr()\n",
    "correlations['close']"
   ]
  },
  {
   "cell_type": "code",
   "execution_count": 7,
   "metadata": {},
   "outputs": [],
   "source": [
    "df.drop(['MACD', 'MACD_signal', 'MACD_diff', 'RSI_14', 'ATR', 'ADX', 'CMF'], axis = 1, inplace=True)"
   ]
  },
  {
   "cell_type": "code",
   "execution_count": 8,
   "metadata": {},
   "outputs": [],
   "source": [
    "df.to_csv(\"btc_after_EDA.csv\", index = False)"
   ]
  }
 ],
 "metadata": {
  "kernelspec": {
   "display_name": "res_proj",
   "language": "python",
   "name": "python3"
  },
  "language_info": {
   "codemirror_mode": {
    "name": "ipython",
    "version": 3
   },
   "file_extension": ".py",
   "mimetype": "text/x-python",
   "name": "python",
   "nbconvert_exporter": "python",
   "pygments_lexer": "ipython3",
   "version": "3.8.18"
  }
 },
 "nbformat": 4,
 "nbformat_minor": 2
}
